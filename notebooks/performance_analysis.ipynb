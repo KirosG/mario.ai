{
 "cells": [
  {
   "cell_type": "code",
   "execution_count": 1,
   "metadata": {},
   "outputs": [],
   "source": [
    "import os\n",
    "import sys\n",
    "\n",
    "import pandas as pd\n",
    "import matplotlib.pyplot as plt"
   ]
  },
  {
   "cell_type": "code",
   "execution_count": 2,
   "metadata": {},
   "outputs": [],
   "source": [
    "sys.path.append('..')"
   ]
  },
  {
   "cell_type": "code",
   "execution_count": 3,
   "metadata": {},
   "outputs": [],
   "source": [
    "from utils import log_parser, csv_parser"
   ]
  },
  {
   "cell_type": "code",
   "execution_count": 4,
   "metadata": {},
   "outputs": [
    {
     "data": {
      "text/plain": [
       "['SuperMarioBrosNoFrameskip-1-1-v0']"
      ]
     },
     "execution_count": 4,
     "metadata": {},
     "output_type": "execute_result"
    }
   ],
   "source": [
    "sorted([f for f in os.listdir('../logs') if f != '.DS_Store'])"
   ]
  },
  {
   "cell_type": "code",
   "execution_count": 5,
   "metadata": {},
   "outputs": [],
   "source": [
    "ENV_NAME = 'SuperMarioBrosNoFrameskip-1-1-v0'"
   ]
  },
  {
   "cell_type": "code",
   "execution_count": 6,
   "metadata": {},
   "outputs": [],
   "source": [
    "LOG_DIR = os.path.join('..', 'records', ENV_NAME)"
   ]
  },
  {
   "cell_type": "code",
   "execution_count": 7,
   "metadata": {},
   "outputs": [],
   "source": [
    "assert os.path.exists(LOG_DIR), 'File not found'"
   ]
  },
  {
   "cell_type": "code",
   "execution_count": 8,
   "metadata": {},
   "outputs": [
    {
     "data": {
      "text/plain": [
       "['results.csv']"
      ]
     },
     "execution_count": 8,
     "metadata": {},
     "output_type": "execute_result"
    }
   ],
   "source": [
    "os.listdir(LOG_DIR)"
   ]
  },
  {
   "cell_type": "code",
   "execution_count": 9,
   "metadata": {},
   "outputs": [],
   "source": [
    "df = csv_parser(os.path.join(LOG_DIR, 'results.csv'))"
   ]
  },
  {
   "cell_type": "code",
   "execution_count": 10,
   "metadata": {},
   "outputs": [
    {
     "data": {
      "text/html": [
       "<div>\n",
       "<style scoped>\n",
       "    .dataframe tbody tr th:only-of-type {\n",
       "        vertical-align: middle;\n",
       "    }\n",
       "\n",
       "    .dataframe tbody tr th {\n",
       "        vertical-align: top;\n",
       "    }\n",
       "\n",
       "    .dataframe thead th {\n",
       "        text-align: right;\n",
       "    }\n",
       "</style>\n",
       "<table border=\"1\" class=\"dataframe\">\n",
       "  <thead>\n",
       "    <tr style=\"text-align: right;\">\n",
       "      <th></th>\n",
       "      <th>environment</th>\n",
       "      <th>algorithm</th>\n",
       "      <th>id</th>\n",
       "      <th>time</th>\n",
       "      <th>steps</th>\n",
       "      <th>reward</th>\n",
       "      <th>episode_length</th>\n",
       "    </tr>\n",
       "  </thead>\n",
       "  <tbody>\n",
       "    <tr>\n",
       "      <th>0</th>\n",
       "      <td>SuperMarioBrosNoFrameskip-1-1-v0</td>\n",
       "      <td>A3C</td>\n",
       "      <td>hungry_toad</td>\n",
       "      <td>2.367584</td>\n",
       "      <td>378</td>\n",
       "      <td>97.4</td>\n",
       "      <td>35</td>\n",
       "    </tr>\n",
       "    <tr>\n",
       "      <th>1</th>\n",
       "      <td>SuperMarioBrosNoFrameskip-1-1-v0</td>\n",
       "      <td>A3C</td>\n",
       "      <td>hungry_toad</td>\n",
       "      <td>4.438492</td>\n",
       "      <td>539</td>\n",
       "      <td>116.5</td>\n",
       "      <td>30</td>\n",
       "    </tr>\n",
       "    <tr>\n",
       "      <th>2</th>\n",
       "      <td>SuperMarioBrosNoFrameskip-1-1-v0</td>\n",
       "      <td>A3C</td>\n",
       "      <td>hungry_toad</td>\n",
       "      <td>6.496785</td>\n",
       "      <td>704</td>\n",
       "      <td>116.5</td>\n",
       "      <td>30</td>\n",
       "    </tr>\n",
       "    <tr>\n",
       "      <th>3</th>\n",
       "      <td>SuperMarioBrosNoFrameskip-1-1-v0</td>\n",
       "      <td>A3C</td>\n",
       "      <td>hungry_toad</td>\n",
       "      <td>8.585014</td>\n",
       "      <td>853</td>\n",
       "      <td>116.5</td>\n",
       "      <td>30</td>\n",
       "    </tr>\n",
       "    <tr>\n",
       "      <th>4</th>\n",
       "      <td>SuperMarioBrosNoFrameskip-1-1-v0</td>\n",
       "      <td>A3C</td>\n",
       "      <td>hungry_toad</td>\n",
       "      <td>10.619856</td>\n",
       "      <td>990</td>\n",
       "      <td>121.5</td>\n",
       "      <td>28</td>\n",
       "    </tr>\n",
       "  </tbody>\n",
       "</table>\n",
       "</div>"
      ],
      "text/plain": [
       "                        environment algorithm           id       time  steps  \\\n",
       "0  SuperMarioBrosNoFrameskip-1-1-v0       A3C  hungry_toad   2.367584    378   \n",
       "1  SuperMarioBrosNoFrameskip-1-1-v0       A3C  hungry_toad   4.438492    539   \n",
       "2  SuperMarioBrosNoFrameskip-1-1-v0       A3C  hungry_toad   6.496785    704   \n",
       "3  SuperMarioBrosNoFrameskip-1-1-v0       A3C  hungry_toad   8.585014    853   \n",
       "4  SuperMarioBrosNoFrameskip-1-1-v0       A3C  hungry_toad  10.619856    990   \n",
       "\n",
       "   reward  episode_length  \n",
       "0    97.4              35  \n",
       "1   116.5              30  \n",
       "2   116.5              30  \n",
       "3   116.5              30  \n",
       "4   121.5              28  "
      ]
     },
     "execution_count": 10,
     "metadata": {},
     "output_type": "execute_result"
    }
   ],
   "source": [
    "df.head()"
   ]
  },
  {
   "cell_type": "code",
   "execution_count": 12,
   "metadata": {},
   "outputs": [
    {
     "data": {
      "text/plain": [
       "<matplotlib.legend.Legend at 0x120d62ac8>"
      ]
     },
     "execution_count": 12,
     "metadata": {},
     "output_type": "execute_result"
    },
    {
     "data": {
      "image/png": "[encoded data removed]",
      "text/plain": [
       "<Figure size 720x432 with 1 Axes>"
      ]
     },
     "metadata": {
      "needs_background": "light"
     },
     "output_type": "display_data"
    }
   ],
   "source": [
    "plt.figure(figsize=(10, 6))\n",
    "for _id in df['id'].unique():\n",
    "    _df = df[df['id'] == _id]\n",
    "    plt.scatter(_df['time'], _df['reward'], label=_id)\n",
    "plt.legend()\n",
    "    "
   ]
  },
  {
   "cell_type": "code",
   "execution_count": null,
   "metadata": {},
   "outputs": [],
   "source": []
  }
 ],
 "metadata": {
  "kernelspec": {
   "display_name": "Python 3",
   "language": "python",
   "name": "python3"
  },
  "language_info": {
   "codemirror_mode": {
    "name": "ipython",
    "version": 3
   },
   "file_extension": ".py",
   "mimetype": "text/x-python",
   "name": "python",
   "nbconvert_exporter": "python",
   "pygments_lexer": "ipython3",
   "version": "3.6.6"
  }
 },
 "nbformat": 4,
 "nbformat_minor": 2
}
